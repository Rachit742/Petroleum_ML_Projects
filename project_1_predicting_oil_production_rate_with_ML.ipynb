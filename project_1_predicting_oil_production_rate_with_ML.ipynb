{
  "nbformat": 4,
  "nbformat_minor": 0,
  "metadata": {
    "colab": {
      "name": "project 1_predicting oil production rate with ML.ipynb",
      "provenance": [],
      "collapsed_sections": []
    },
    "kernelspec": {
      "name": "python3",
      "display_name": "Python 3"
    },
    "language_info": {
      "name": "python"
    }
  },
  "cells": [
    {
      "cell_type": "markdown",
      "source": [
        "**Oil and gas Machine Learning Project**\n",
        "\n",
        "    \n",
        "**Problem statement** :  \n",
        "To develop a regression model that takes operational parameters as inputs and provides oil-production rates as outputs.\n",
        "\n",
        "\n",
        "\n"
      ],
      "metadata": {
        "id": "4QLPTvFwCGcM"
      }
    },
    {
      "cell_type": "markdown",
      "source": [
        "**1. Import libraries and Dataset**"
      ],
      "metadata": {
        "id": "UG_k8kyhCw2P"
      }
    },
    {
      "cell_type": "code",
      "source": [
        "import numpy as np \n",
        "import pandas as pd\n",
        "import seaborn as sns\n",
        "import matplotlib.pyplot as plt\n"
      ],
      "metadata": {
        "id": "4UXeliqvkGdb"
      },
      "execution_count": null,
      "outputs": []
    },
    {
      "cell_type": "code",
      "source": [
        "df = pd.read_csv('https://raw.githubusercontent.com/Divyanshu-ISM/Machine-Learning-Deep-Learning/main/Volve%20P-12_DatesCorrected.csv',index_col=0, parse_dates = True)"
      ],
      "metadata": {
        "id": "lOFKd3xurdxK"
      },
      "execution_count": null,
      "outputs": []
    },
    {
      "cell_type": "code",
      "source": [
        "df"
      ],
      "metadata": {
        "colab": {
          "base_uri": "https://localhost:8080/",
          "height": 678
        },
        "id": "h81ycJVvC8ai",
        "outputId": "6d500ffa-a8de-4b37-82c8-6e187500aa93"
      },
      "execution_count": null,
      "outputs": [
        {
          "output_type": "execute_result",
          "data": {
            "text/plain": [
              "            onstreaminject_HRS  BORE_WI_VOL  ON_STREAM_HRS  \\\n",
              "2007-01-09                 0.0            0            0.0   \n",
              "2007-01-10                 0.0            0            0.0   \n",
              "2007-01-11                 0.0            0            0.0   \n",
              "2007-01-12                 0.0            0            0.0   \n",
              "2007-01-13                 0.0            0            0.0   \n",
              "...                        ...          ...            ...   \n",
              "2016-01-08                 0.0            0            0.0   \n",
              "2016-01-09                 0.0            0            0.0   \n",
              "2016-01-10                 0.0            0            0.0   \n",
              "2016-01-11                 0.0            0            0.0   \n",
              "2016-01-12                 0.0            0            0.0   \n",
              "\n",
              "            AVG_DOWNHOLE_PRESSURE  AVG_DOWNHOLE_TEMPERATURE  AVG_DP_TUBING  \\\n",
              "2007-01-09                    0.0                       0.0            0.0   \n",
              "2007-01-10                    0.0                       0.0            0.0   \n",
              "2007-01-11                    0.0                       0.0            0.0   \n",
              "2007-01-12                    0.0                       0.0            0.0   \n",
              "2007-01-13                    0.0                       0.0            0.0   \n",
              "...                           ...                       ...            ...   \n",
              "2016-01-08                    0.0                       0.0            0.0   \n",
              "2016-01-09                    0.0                       0.0            0.0   \n",
              "2016-01-10                    0.0                       0.0            0.0   \n",
              "2016-01-11                    0.0                       0.0            0.0   \n",
              "2016-01-12                    0.0                       0.0            0.0   \n",
              "\n",
              "            AVG_ANNULUS_PRESS  AVG_CHOKE_SIZE_P in percentage  AVG_WHP_P  \\\n",
              "2007-01-09              0.000                         0.00000        0.0   \n",
              "2007-01-10              0.000                         0.00000        0.0   \n",
              "2007-01-11              0.000                         0.00000        0.0   \n",
              "2007-01-12              0.000                         0.00000        0.0   \n",
              "2007-01-13              0.000                         0.00000        0.0   \n",
              "...                       ...                             ...        ...   \n",
              "2016-01-08             19.959                         0.90339        0.0   \n",
              "2016-01-09             19.959                         0.90339        0.0   \n",
              "2016-01-10             19.959                         0.90339        0.0   \n",
              "2016-01-11             19.959                         0.90339        0.0   \n",
              "2016-01-12             19.959                         0.90339        0.0   \n",
              "\n",
              "            AVG_WHT_P  DP_CHOKE_SIZE  BORE_OIL_VOL  BORE_GAS_VOL  BORE_WAT_VOL  \n",
              "2007-01-09        0.0          0.000           0.0           0.0           0.0  \n",
              "2007-01-10        0.0          0.000           0.0           0.0           0.0  \n",
              "2007-01-11        0.0          0.000           0.0           0.0           0.0  \n",
              "2007-01-12        0.0          0.000           0.0           0.0           0.0  \n",
              "2007-01-13        0.0          0.000           0.0           0.0           0.0  \n",
              "...               ...            ...           ...           ...           ...  \n",
              "2016-01-08        0.0          0.026           0.0           0.0           0.0  \n",
              "2016-01-09        0.0          0.026           0.0           0.0           0.0  \n",
              "2016-01-10        0.0          0.026           0.0           0.0           0.0  \n",
              "2016-01-11        0.0          0.026           0.0           0.0           0.0  \n",
              "2016-01-12        0.0          0.026           0.0           0.0           0.0  \n",
              "\n",
              "[3291 rows x 14 columns]"
            ],
            "text/html": [
              "\n",
              "  <div id=\"df-aeb9496b-44a9-4ac2-81fc-c3664dafae74\">\n",
              "    <div class=\"colab-df-container\">\n",
              "      <div>\n",
              "<style scoped>\n",
              "    .dataframe tbody tr th:only-of-type {\n",
              "        vertical-align: middle;\n",
              "    }\n",
              "\n",
              "    .dataframe tbody tr th {\n",
              "        vertical-align: top;\n",
              "    }\n",
              "\n",
              "    .dataframe thead th {\n",
              "        text-align: right;\n",
              "    }\n",
              "</style>\n",
              "<table border=\"1\" class=\"dataframe\">\n",
              "  <thead>\n",
              "    <tr style=\"text-align: right;\">\n",
              "      <th></th>\n",
              "      <th>onstreaminject_HRS</th>\n",
              "      <th>BORE_WI_VOL</th>\n",
              "      <th>ON_STREAM_HRS</th>\n",
              "      <th>AVG_DOWNHOLE_PRESSURE</th>\n",
              "      <th>AVG_DOWNHOLE_TEMPERATURE</th>\n",
              "      <th>AVG_DP_TUBING</th>\n",
              "      <th>AVG_ANNULUS_PRESS</th>\n",
              "      <th>AVG_CHOKE_SIZE_P in percentage</th>\n",
              "      <th>AVG_WHP_P</th>\n",
              "      <th>AVG_WHT_P</th>\n",
              "      <th>DP_CHOKE_SIZE</th>\n",
              "      <th>BORE_OIL_VOL</th>\n",
              "      <th>BORE_GAS_VOL</th>\n",
              "      <th>BORE_WAT_VOL</th>\n",
              "    </tr>\n",
              "  </thead>\n",
              "  <tbody>\n",
              "    <tr>\n",
              "      <th>2007-01-09</th>\n",
              "      <td>0.0</td>\n",
              "      <td>0</td>\n",
              "      <td>0.0</td>\n",
              "      <td>0.0</td>\n",
              "      <td>0.0</td>\n",
              "      <td>0.0</td>\n",
              "      <td>0.000</td>\n",
              "      <td>0.00000</td>\n",
              "      <td>0.0</td>\n",
              "      <td>0.0</td>\n",
              "      <td>0.000</td>\n",
              "      <td>0.0</td>\n",
              "      <td>0.0</td>\n",
              "      <td>0.0</td>\n",
              "    </tr>\n",
              "    <tr>\n",
              "      <th>2007-01-10</th>\n",
              "      <td>0.0</td>\n",
              "      <td>0</td>\n",
              "      <td>0.0</td>\n",
              "      <td>0.0</td>\n",
              "      <td>0.0</td>\n",
              "      <td>0.0</td>\n",
              "      <td>0.000</td>\n",
              "      <td>0.00000</td>\n",
              "      <td>0.0</td>\n",
              "      <td>0.0</td>\n",
              "      <td>0.000</td>\n",
              "      <td>0.0</td>\n",
              "      <td>0.0</td>\n",
              "      <td>0.0</td>\n",
              "    </tr>\n",
              "    <tr>\n",
              "      <th>2007-01-11</th>\n",
              "      <td>0.0</td>\n",
              "      <td>0</td>\n",
              "      <td>0.0</td>\n",
              "      <td>0.0</td>\n",
              "      <td>0.0</td>\n",
              "      <td>0.0</td>\n",
              "      <td>0.000</td>\n",
              "      <td>0.00000</td>\n",
              "      <td>0.0</td>\n",
              "      <td>0.0</td>\n",
              "      <td>0.000</td>\n",
              "      <td>0.0</td>\n",
              "      <td>0.0</td>\n",
              "      <td>0.0</td>\n",
              "    </tr>\n",
              "    <tr>\n",
              "      <th>2007-01-12</th>\n",
              "      <td>0.0</td>\n",
              "      <td>0</td>\n",
              "      <td>0.0</td>\n",
              "      <td>0.0</td>\n",
              "      <td>0.0</td>\n",
              "      <td>0.0</td>\n",
              "      <td>0.000</td>\n",
              "      <td>0.00000</td>\n",
              "      <td>0.0</td>\n",
              "      <td>0.0</td>\n",
              "      <td>0.000</td>\n",
              "      <td>0.0</td>\n",
              "      <td>0.0</td>\n",
              "      <td>0.0</td>\n",
              "    </tr>\n",
              "    <tr>\n",
              "      <th>2007-01-13</th>\n",
              "      <td>0.0</td>\n",
              "      <td>0</td>\n",
              "      <td>0.0</td>\n",
              "      <td>0.0</td>\n",
              "      <td>0.0</td>\n",
              "      <td>0.0</td>\n",
              "      <td>0.000</td>\n",
              "      <td>0.00000</td>\n",
              "      <td>0.0</td>\n",
              "      <td>0.0</td>\n",
              "      <td>0.000</td>\n",
              "      <td>0.0</td>\n",
              "      <td>0.0</td>\n",
              "      <td>0.0</td>\n",
              "    </tr>\n",
              "    <tr>\n",
              "      <th>...</th>\n",
              "      <td>...</td>\n",
              "      <td>...</td>\n",
              "      <td>...</td>\n",
              "      <td>...</td>\n",
              "      <td>...</td>\n",
              "      <td>...</td>\n",
              "      <td>...</td>\n",
              "      <td>...</td>\n",
              "      <td>...</td>\n",
              "      <td>...</td>\n",
              "      <td>...</td>\n",
              "      <td>...</td>\n",
              "      <td>...</td>\n",
              "      <td>...</td>\n",
              "    </tr>\n",
              "    <tr>\n",
              "      <th>2016-01-08</th>\n",
              "      <td>0.0</td>\n",
              "      <td>0</td>\n",
              "      <td>0.0</td>\n",
              "      <td>0.0</td>\n",
              "      <td>0.0</td>\n",
              "      <td>0.0</td>\n",
              "      <td>19.959</td>\n",
              "      <td>0.90339</td>\n",
              "      <td>0.0</td>\n",
              "      <td>0.0</td>\n",
              "      <td>0.026</td>\n",
              "      <td>0.0</td>\n",
              "      <td>0.0</td>\n",
              "      <td>0.0</td>\n",
              "    </tr>\n",
              "    <tr>\n",
              "      <th>2016-01-09</th>\n",
              "      <td>0.0</td>\n",
              "      <td>0</td>\n",
              "      <td>0.0</td>\n",
              "      <td>0.0</td>\n",
              "      <td>0.0</td>\n",
              "      <td>0.0</td>\n",
              "      <td>19.959</td>\n",
              "      <td>0.90339</td>\n",
              "      <td>0.0</td>\n",
              "      <td>0.0</td>\n",
              "      <td>0.026</td>\n",
              "      <td>0.0</td>\n",
              "      <td>0.0</td>\n",
              "      <td>0.0</td>\n",
              "    </tr>\n",
              "    <tr>\n",
              "      <th>2016-01-10</th>\n",
              "      <td>0.0</td>\n",
              "      <td>0</td>\n",
              "      <td>0.0</td>\n",
              "      <td>0.0</td>\n",
              "      <td>0.0</td>\n",
              "      <td>0.0</td>\n",
              "      <td>19.959</td>\n",
              "      <td>0.90339</td>\n",
              "      <td>0.0</td>\n",
              "      <td>0.0</td>\n",
              "      <td>0.026</td>\n",
              "      <td>0.0</td>\n",
              "      <td>0.0</td>\n",
              "      <td>0.0</td>\n",
              "    </tr>\n",
              "    <tr>\n",
              "      <th>2016-01-11</th>\n",
              "      <td>0.0</td>\n",
              "      <td>0</td>\n",
              "      <td>0.0</td>\n",
              "      <td>0.0</td>\n",
              "      <td>0.0</td>\n",
              "      <td>0.0</td>\n",
              "      <td>19.959</td>\n",
              "      <td>0.90339</td>\n",
              "      <td>0.0</td>\n",
              "      <td>0.0</td>\n",
              "      <td>0.026</td>\n",
              "      <td>0.0</td>\n",
              "      <td>0.0</td>\n",
              "      <td>0.0</td>\n",
              "    </tr>\n",
              "    <tr>\n",
              "      <th>2016-01-12</th>\n",
              "      <td>0.0</td>\n",
              "      <td>0</td>\n",
              "      <td>0.0</td>\n",
              "      <td>0.0</td>\n",
              "      <td>0.0</td>\n",
              "      <td>0.0</td>\n",
              "      <td>19.959</td>\n",
              "      <td>0.90339</td>\n",
              "      <td>0.0</td>\n",
              "      <td>0.0</td>\n",
              "      <td>0.026</td>\n",
              "      <td>0.0</td>\n",
              "      <td>0.0</td>\n",
              "      <td>0.0</td>\n",
              "    </tr>\n",
              "  </tbody>\n",
              "</table>\n",
              "<p>3291 rows × 14 columns</p>\n",
              "</div>\n",
              "      <button class=\"colab-df-convert\" onclick=\"convertToInteractive('df-aeb9496b-44a9-4ac2-81fc-c3664dafae74')\"\n",
              "              title=\"Convert this dataframe to an interactive table.\"\n",
              "              style=\"display:none;\">\n",
              "        \n",
              "  <svg xmlns=\"http://www.w3.org/2000/svg\" height=\"24px\"viewBox=\"0 0 24 24\"\n",
              "       width=\"24px\">\n",
              "    <path d=\"M0 0h24v24H0V0z\" fill=\"none\"/>\n",
              "    <path d=\"M18.56 5.44l.94 2.06.94-2.06 2.06-.94-2.06-.94-.94-2.06-.94 2.06-2.06.94zm-11 1L8.5 8.5l.94-2.06 2.06-.94-2.06-.94L8.5 2.5l-.94 2.06-2.06.94zm10 10l.94 2.06.94-2.06 2.06-.94-2.06-.94-.94-2.06-.94 2.06-2.06.94z\"/><path d=\"M17.41 7.96l-1.37-1.37c-.4-.4-.92-.59-1.43-.59-.52 0-1.04.2-1.43.59L10.3 9.45l-7.72 7.72c-.78.78-.78 2.05 0 2.83L4 21.41c.39.39.9.59 1.41.59.51 0 1.02-.2 1.41-.59l7.78-7.78 2.81-2.81c.8-.78.8-2.07 0-2.86zM5.41 20L4 18.59l7.72-7.72 1.47 1.35L5.41 20z\"/>\n",
              "  </svg>\n",
              "      </button>\n",
              "      \n",
              "  <style>\n",
              "    .colab-df-container {\n",
              "      display:flex;\n",
              "      flex-wrap:wrap;\n",
              "      gap: 12px;\n",
              "    }\n",
              "\n",
              "    .colab-df-convert {\n",
              "      background-color: #E8F0FE;\n",
              "      border: none;\n",
              "      border-radius: 50%;\n",
              "      cursor: pointer;\n",
              "      display: none;\n",
              "      fill: #1967D2;\n",
              "      height: 32px;\n",
              "      padding: 0 0 0 0;\n",
              "      width: 32px;\n",
              "    }\n",
              "\n",
              "    .colab-df-convert:hover {\n",
              "      background-color: #E2EBFA;\n",
              "      box-shadow: 0px 1px 2px rgba(60, 64, 67, 0.3), 0px 1px 3px 1px rgba(60, 64, 67, 0.15);\n",
              "      fill: #174EA6;\n",
              "    }\n",
              "\n",
              "    [theme=dark] .colab-df-convert {\n",
              "      background-color: #3B4455;\n",
              "      fill: #D2E3FC;\n",
              "    }\n",
              "\n",
              "    [theme=dark] .colab-df-convert:hover {\n",
              "      background-color: #434B5C;\n",
              "      box-shadow: 0px 1px 3px 1px rgba(0, 0, 0, 0.15);\n",
              "      filter: drop-shadow(0px 1px 2px rgba(0, 0, 0, 0.3));\n",
              "      fill: #FFFFFF;\n",
              "    }\n",
              "  </style>\n",
              "\n",
              "      <script>\n",
              "        const buttonEl =\n",
              "          document.querySelector('#df-aeb9496b-44a9-4ac2-81fc-c3664dafae74 button.colab-df-convert');\n",
              "        buttonEl.style.display =\n",
              "          google.colab.kernel.accessAllowed ? 'block' : 'none';\n",
              "\n",
              "        async function convertToInteractive(key) {\n",
              "          const element = document.querySelector('#df-aeb9496b-44a9-4ac2-81fc-c3664dafae74');\n",
              "          const dataTable =\n",
              "            await google.colab.kernel.invokeFunction('convertToInteractive',\n",
              "                                                     [key], {});\n",
              "          if (!dataTable) return;\n",
              "\n",
              "          const docLinkHtml = 'Like what you see? Visit the ' +\n",
              "            '<a target=\"_blank\" href=https://colab.research.google.com/notebooks/data_table.ipynb>data table notebook</a>'\n",
              "            + ' to learn more about interactive tables.';\n",
              "          element.innerHTML = '';\n",
              "          dataTable['output_type'] = 'display_data';\n",
              "          await google.colab.output.renderOutput(dataTable, element);\n",
              "          const docLink = document.createElement('div');\n",
              "          docLink.innerHTML = docLinkHtml;\n",
              "          element.appendChild(docLink);\n",
              "        }\n",
              "      </script>\n",
              "    </div>\n",
              "  </div>\n",
              "  "
            ]
          },
          "metadata": {},
          "execution_count": 7
        }
      ]
    },
    {
      "cell_type": "code",
      "source": [
        "df.head()"
      ],
      "metadata": {
        "colab": {
          "base_uri": "https://localhost:8080/",
          "height": 374
        },
        "id": "hZaBa4g7DJ6c",
        "outputId": "2be9c79e-76b6-4a0d-ddd8-7c0c5ffa02ca"
      },
      "execution_count": null,
      "outputs": [
        {
          "output_type": "execute_result",
          "data": {
            "text/plain": [
              "            onstreaminject_HRS  BORE_WI_VOL  ON_STREAM_HRS  \\\n",
              "2007-01-09                 0.0            0            0.0   \n",
              "2007-01-10                 0.0            0            0.0   \n",
              "2007-01-11                 0.0            0            0.0   \n",
              "2007-01-12                 0.0            0            0.0   \n",
              "2007-01-13                 0.0            0            0.0   \n",
              "\n",
              "            AVG_DOWNHOLE_PRESSURE  AVG_DOWNHOLE_TEMPERATURE  AVG_DP_TUBING  \\\n",
              "2007-01-09                    0.0                       0.0            0.0   \n",
              "2007-01-10                    0.0                       0.0            0.0   \n",
              "2007-01-11                    0.0                       0.0            0.0   \n",
              "2007-01-12                    0.0                       0.0            0.0   \n",
              "2007-01-13                    0.0                       0.0            0.0   \n",
              "\n",
              "            AVG_ANNULUS_PRESS  AVG_CHOKE_SIZE_P in percentage  AVG_WHP_P  \\\n",
              "2007-01-09                0.0                             0.0        0.0   \n",
              "2007-01-10                0.0                             0.0        0.0   \n",
              "2007-01-11                0.0                             0.0        0.0   \n",
              "2007-01-12                0.0                             0.0        0.0   \n",
              "2007-01-13                0.0                             0.0        0.0   \n",
              "\n",
              "            AVG_WHT_P  DP_CHOKE_SIZE  BORE_OIL_VOL  BORE_GAS_VOL  BORE_WAT_VOL  \n",
              "2007-01-09        0.0            0.0           0.0           0.0           0.0  \n",
              "2007-01-10        0.0            0.0           0.0           0.0           0.0  \n",
              "2007-01-11        0.0            0.0           0.0           0.0           0.0  \n",
              "2007-01-12        0.0            0.0           0.0           0.0           0.0  \n",
              "2007-01-13        0.0            0.0           0.0           0.0           0.0  "
            ],
            "text/html": [
              "\n",
              "  <div id=\"df-993ebef1-750a-4f15-a7ee-e22e87faa843\">\n",
              "    <div class=\"colab-df-container\">\n",
              "      <div>\n",
              "<style scoped>\n",
              "    .dataframe tbody tr th:only-of-type {\n",
              "        vertical-align: middle;\n",
              "    }\n",
              "\n",
              "    .dataframe tbody tr th {\n",
              "        vertical-align: top;\n",
              "    }\n",
              "\n",
              "    .dataframe thead th {\n",
              "        text-align: right;\n",
              "    }\n",
              "</style>\n",
              "<table border=\"1\" class=\"dataframe\">\n",
              "  <thead>\n",
              "    <tr style=\"text-align: right;\">\n",
              "      <th></th>\n",
              "      <th>onstreaminject_HRS</th>\n",
              "      <th>BORE_WI_VOL</th>\n",
              "      <th>ON_STREAM_HRS</th>\n",
              "      <th>AVG_DOWNHOLE_PRESSURE</th>\n",
              "      <th>AVG_DOWNHOLE_TEMPERATURE</th>\n",
              "      <th>AVG_DP_TUBING</th>\n",
              "      <th>AVG_ANNULUS_PRESS</th>\n",
              "      <th>AVG_CHOKE_SIZE_P in percentage</th>\n",
              "      <th>AVG_WHP_P</th>\n",
              "      <th>AVG_WHT_P</th>\n",
              "      <th>DP_CHOKE_SIZE</th>\n",
              "      <th>BORE_OIL_VOL</th>\n",
              "      <th>BORE_GAS_VOL</th>\n",
              "      <th>BORE_WAT_VOL</th>\n",
              "    </tr>\n",
              "  </thead>\n",
              "  <tbody>\n",
              "    <tr>\n",
              "      <th>2007-01-09</th>\n",
              "      <td>0.0</td>\n",
              "      <td>0</td>\n",
              "      <td>0.0</td>\n",
              "      <td>0.0</td>\n",
              "      <td>0.0</td>\n",
              "      <td>0.0</td>\n",
              "      <td>0.0</td>\n",
              "      <td>0.0</td>\n",
              "      <td>0.0</td>\n",
              "      <td>0.0</td>\n",
              "      <td>0.0</td>\n",
              "      <td>0.0</td>\n",
              "      <td>0.0</td>\n",
              "      <td>0.0</td>\n",
              "    </tr>\n",
              "    <tr>\n",
              "      <th>2007-01-10</th>\n",
              "      <td>0.0</td>\n",
              "      <td>0</td>\n",
              "      <td>0.0</td>\n",
              "      <td>0.0</td>\n",
              "      <td>0.0</td>\n",
              "      <td>0.0</td>\n",
              "      <td>0.0</td>\n",
              "      <td>0.0</td>\n",
              "      <td>0.0</td>\n",
              "      <td>0.0</td>\n",
              "      <td>0.0</td>\n",
              "      <td>0.0</td>\n",
              "      <td>0.0</td>\n",
              "      <td>0.0</td>\n",
              "    </tr>\n",
              "    <tr>\n",
              "      <th>2007-01-11</th>\n",
              "      <td>0.0</td>\n",
              "      <td>0</td>\n",
              "      <td>0.0</td>\n",
              "      <td>0.0</td>\n",
              "      <td>0.0</td>\n",
              "      <td>0.0</td>\n",
              "      <td>0.0</td>\n",
              "      <td>0.0</td>\n",
              "      <td>0.0</td>\n",
              "      <td>0.0</td>\n",
              "      <td>0.0</td>\n",
              "      <td>0.0</td>\n",
              "      <td>0.0</td>\n",
              "      <td>0.0</td>\n",
              "    </tr>\n",
              "    <tr>\n",
              "      <th>2007-01-12</th>\n",
              "      <td>0.0</td>\n",
              "      <td>0</td>\n",
              "      <td>0.0</td>\n",
              "      <td>0.0</td>\n",
              "      <td>0.0</td>\n",
              "      <td>0.0</td>\n",
              "      <td>0.0</td>\n",
              "      <td>0.0</td>\n",
              "      <td>0.0</td>\n",
              "      <td>0.0</td>\n",
              "      <td>0.0</td>\n",
              "      <td>0.0</td>\n",
              "      <td>0.0</td>\n",
              "      <td>0.0</td>\n",
              "    </tr>\n",
              "    <tr>\n",
              "      <th>2007-01-13</th>\n",
              "      <td>0.0</td>\n",
              "      <td>0</td>\n",
              "      <td>0.0</td>\n",
              "      <td>0.0</td>\n",
              "      <td>0.0</td>\n",
              "      <td>0.0</td>\n",
              "      <td>0.0</td>\n",
              "      <td>0.0</td>\n",
              "      <td>0.0</td>\n",
              "      <td>0.0</td>\n",
              "      <td>0.0</td>\n",
              "      <td>0.0</td>\n",
              "      <td>0.0</td>\n",
              "      <td>0.0</td>\n",
              "    </tr>\n",
              "  </tbody>\n",
              "</table>\n",
              "</div>\n",
              "      <button class=\"colab-df-convert\" onclick=\"convertToInteractive('df-993ebef1-750a-4f15-a7ee-e22e87faa843')\"\n",
              "              title=\"Convert this dataframe to an interactive table.\"\n",
              "              style=\"display:none;\">\n",
              "        \n",
              "  <svg xmlns=\"http://www.w3.org/2000/svg\" height=\"24px\"viewBox=\"0 0 24 24\"\n",
              "       width=\"24px\">\n",
              "    <path d=\"M0 0h24v24H0V0z\" fill=\"none\"/>\n",
              "    <path d=\"M18.56 5.44l.94 2.06.94-2.06 2.06-.94-2.06-.94-.94-2.06-.94 2.06-2.06.94zm-11 1L8.5 8.5l.94-2.06 2.06-.94-2.06-.94L8.5 2.5l-.94 2.06-2.06.94zm10 10l.94 2.06.94-2.06 2.06-.94-2.06-.94-.94-2.06-.94 2.06-2.06.94z\"/><path d=\"M17.41 7.96l-1.37-1.37c-.4-.4-.92-.59-1.43-.59-.52 0-1.04.2-1.43.59L10.3 9.45l-7.72 7.72c-.78.78-.78 2.05 0 2.83L4 21.41c.39.39.9.59 1.41.59.51 0 1.02-.2 1.41-.59l7.78-7.78 2.81-2.81c.8-.78.8-2.07 0-2.86zM5.41 20L4 18.59l7.72-7.72 1.47 1.35L5.41 20z\"/>\n",
              "  </svg>\n",
              "      </button>\n",
              "      \n",
              "  <style>\n",
              "    .colab-df-container {\n",
              "      display:flex;\n",
              "      flex-wrap:wrap;\n",
              "      gap: 12px;\n",
              "    }\n",
              "\n",
              "    .colab-df-convert {\n",
              "      background-color: #E8F0FE;\n",
              "      border: none;\n",
              "      border-radius: 50%;\n",
              "      cursor: pointer;\n",
              "      display: none;\n",
              "      fill: #1967D2;\n",
              "      height: 32px;\n",
              "      padding: 0 0 0 0;\n",
              "      width: 32px;\n",
              "    }\n",
              "\n",
              "    .colab-df-convert:hover {\n",
              "      background-color: #E2EBFA;\n",
              "      box-shadow: 0px 1px 2px rgba(60, 64, 67, 0.3), 0px 1px 3px 1px rgba(60, 64, 67, 0.15);\n",
              "      fill: #174EA6;\n",
              "    }\n",
              "\n",
              "    [theme=dark] .colab-df-convert {\n",
              "      background-color: #3B4455;\n",
              "      fill: #D2E3FC;\n",
              "    }\n",
              "\n",
              "    [theme=dark] .colab-df-convert:hover {\n",
              "      background-color: #434B5C;\n",
              "      box-shadow: 0px 1px 3px 1px rgba(0, 0, 0, 0.15);\n",
              "      filter: drop-shadow(0px 1px 2px rgba(0, 0, 0, 0.3));\n",
              "      fill: #FFFFFF;\n",
              "    }\n",
              "  </style>\n",
              "\n",
              "      <script>\n",
              "        const buttonEl =\n",
              "          document.querySelector('#df-993ebef1-750a-4f15-a7ee-e22e87faa843 button.colab-df-convert');\n",
              "        buttonEl.style.display =\n",
              "          google.colab.kernel.accessAllowed ? 'block' : 'none';\n",
              "\n",
              "        async function convertToInteractive(key) {\n",
              "          const element = document.querySelector('#df-993ebef1-750a-4f15-a7ee-e22e87faa843');\n",
              "          const dataTable =\n",
              "            await google.colab.kernel.invokeFunction('convertToInteractive',\n",
              "                                                     [key], {});\n",
              "          if (!dataTable) return;\n",
              "\n",
              "          const docLinkHtml = 'Like what you see? Visit the ' +\n",
              "            '<a target=\"_blank\" href=https://colab.research.google.com/notebooks/data_table.ipynb>data table notebook</a>'\n",
              "            + ' to learn more about interactive tables.';\n",
              "          element.innerHTML = '';\n",
              "          dataTable['output_type'] = 'display_data';\n",
              "          await google.colab.output.renderOutput(dataTable, element);\n",
              "          const docLink = document.createElement('div');\n",
              "          docLink.innerHTML = docLinkHtml;\n",
              "          element.appendChild(docLink);\n",
              "        }\n",
              "      </script>\n",
              "    </div>\n",
              "  </div>\n",
              "  "
            ]
          },
          "metadata": {},
          "execution_count": 8
        }
      ]
    },
    {
      "cell_type": "code",
      "source": [
        "df.info()"
      ],
      "metadata": {
        "colab": {
          "base_uri": "https://localhost:8080/"
        },
        "id": "cLYN0j8gDPYL",
        "outputId": "972a0472-98d2-42eb-c539-2c9d7b826ff7"
      },
      "execution_count": null,
      "outputs": [
        {
          "output_type": "stream",
          "name": "stdout",
          "text": [
            "<class 'pandas.core.frame.DataFrame'>\n",
            "DatetimeIndex: 3291 entries, 2007-01-09 to 2016-01-12\n",
            "Data columns (total 14 columns):\n",
            " #   Column                          Non-Null Count  Dtype  \n",
            "---  ------                          --------------  -----  \n",
            " 0   onstreaminject_HRS              3291 non-null   float64\n",
            " 1   BORE_WI_VOL                     3291 non-null   int64  \n",
            " 2   ON_STREAM_HRS                   3291 non-null   float64\n",
            " 3   AVG_DOWNHOLE_PRESSURE           3291 non-null   float64\n",
            " 4   AVG_DOWNHOLE_TEMPERATURE        3291 non-null   float64\n",
            " 5   AVG_DP_TUBING                   3291 non-null   float64\n",
            " 6   AVG_ANNULUS_PRESS               3291 non-null   float64\n",
            " 7   AVG_CHOKE_SIZE_P in percentage  3291 non-null   float64\n",
            " 8   AVG_WHP_P                       3291 non-null   float64\n",
            " 9   AVG_WHT_P                       3291 non-null   float64\n",
            " 10  DP_CHOKE_SIZE                   3291 non-null   float64\n",
            " 11  BORE_OIL_VOL                    3291 non-null   float64\n",
            " 12  BORE_GAS_VOL                    3291 non-null   float64\n",
            " 13  BORE_WAT_VOL                    3291 non-null   float64\n",
            "dtypes: float64(13), int64(1)\n",
            "memory usage: 385.7 KB\n"
          ]
        }
      ]
    },
    {
      "cell_type": "code",
      "source": [
        "df.columns"
      ],
      "metadata": {
        "colab": {
          "base_uri": "https://localhost:8080/"
        },
        "id": "ykvY9FUSDR-G",
        "outputId": "b906e39a-0ff3-4348-c3af-dcd5a488078e"
      },
      "execution_count": null,
      "outputs": [
        {
          "output_type": "execute_result",
          "data": {
            "text/plain": [
              "Index(['onstreaminject_HRS', 'BORE_WI_VOL', 'ON_STREAM_HRS',\n",
              "       'AVG_DOWNHOLE_PRESSURE', 'AVG_DOWNHOLE_TEMPERATURE', 'AVG_DP_TUBING',\n",
              "       'AVG_ANNULUS_PRESS', 'AVG_CHOKE_SIZE_P in percentage', 'AVG_WHP_P',\n",
              "       'AVG_WHT_P', 'DP_CHOKE_SIZE', 'BORE_OIL_VOL', 'BORE_GAS_VOL',\n",
              "       'BORE_WAT_VOL'],\n",
              "      dtype='object')"
            ]
          },
          "metadata": {},
          "execution_count": 10
        }
      ]
    },
    {
      "cell_type": "markdown",
      "source": [
        "**2. Columns - select input and output columns**\n",
        "\n",
        "Correlation Analysis has been used as a Quick-Hack to the same\n",
        "\n",
        "Too High or Too Low Correlation magnitudes need to be avoided."
      ],
      "metadata": {
        "id": "XgSauPtSDW49"
      }
    },
    {
      "cell_type": "code",
      "source": [
        "output_col = 'BORE_OIL_VOL'"
      ],
      "metadata": {
        "id": "8oTAu-54DVXp"
      },
      "execution_count": null,
      "outputs": []
    },
    {
      "cell_type": "code",
      "source": [
        "sns.heatmap(df.corr())"
      ],
      "metadata": {
        "colab": {
          "base_uri": "https://localhost:8080/",
          "height": 448
        },
        "id": "zHrLkQNpD-Tb",
        "outputId": "8b4c188d-91c5-469f-c271-75ba7dbe0d73"
      },
      "execution_count": null,
      "outputs": [
        {
          "output_type": "execute_result",
          "data": {
            "text/plain": [
              "<matplotlib.axes._subplots.AxesSubplot at 0x7fa13b3f7a50>"
            ]
          },
          "metadata": {},
          "execution_count": 16
        },
        {
          "output_type": "display_data",
          "data": {
            "text/plain": [
              "<Figure size 432x288 with 2 Axes>"
            ],
            "image/png": "[encoded data removed]"
          },
          "metadata": {
            "needs_background": "light"
          }
        }
      ]
    },
    {
      "cell_type": "markdown",
      "source": [
        "since some features are fairly inter-related , which breaks the assumption of LinRegression and hence we might see troubles in model performances."
      ],
      "metadata": {
        "id": "Gl3X37kqE-QF"
      }
    },
    {
      "cell_type": "code",
      "source": [
        "df.corr()[output_col].sort_values(ascending=False)[1:].plot(kind='bar', figsize=(12,4), grid=True)"
      ],
      "metadata": {
        "colab": {
          "base_uri": "https://localhost:8080/",
          "height": 444
        },
        "id": "b03zu6E5FnsG",
        "outputId": "be6d7c5e-43f0-4a22-b184-996f99fc976d"
      },
      "execution_count": null,
      "outputs": [
        {
          "output_type": "execute_result",
          "data": {
            "text/plain": [
              "<matplotlib.axes._subplots.AxesSubplot at 0x7fa1385f6050>"
            ]
          },
          "metadata": {},
          "execution_count": 17
        },
        {
          "output_type": "display_data",
          "data": {
            "text/plain": [
              "<Figure size 864x288 with 1 Axes>"
            ],
            "image/png": "[encoded data removed]"
          },
          "metadata": {
            "needs_background": "light"
          }
        }
      ]
    },
    {
      "cell_type": "code",
      "source": [
        "corr_df = pd.DataFrame(df.corr()[output_col].sort_values(ascending=False)[1:])\n",
        "corr_df.columns=['Corr']    "
      ],
      "metadata": {
        "id": "CqbbXl3aGDVo"
      },
      "execution_count": null,
      "outputs": []
    },
    {
      "cell_type": "code",
      "source": [
        "corr_df"
      ],
      "metadata": {
        "colab": {
          "base_uri": "https://localhost:8080/",
          "height": 457
        },
        "id": "ElZfQCTpGRz8",
        "outputId": "3c9951ed-043e-49c8-cc8a-cf08babfd12b"
      },
      "execution_count": null,
      "outputs": [
        {
          "output_type": "execute_result",
          "data": {
            "text/plain": [
              "                                    Corr\n",
              "BORE_GAS_VOL                    0.998661\n",
              "AVG_DOWNHOLE_TEMPERATURE        0.850241\n",
              "AVG_DOWNHOLE_PRESSURE           0.819920\n",
              "AVG_DP_TUBING                   0.778941\n",
              "AVG_WHP_P                       0.544204\n",
              "DP_CHOKE_SIZE                   0.434375\n",
              "BORE_WI_VOL                     0.368739\n",
              "ON_STREAM_HRS                   0.361124\n",
              "AVG_WHT_P                       0.245750\n",
              "onstreaminject_HRS              0.182405\n",
              "AVG_ANNULUS_PRESS               0.163663\n",
              "AVG_CHOKE_SIZE_P in percentage -0.049757\n",
              "BORE_WAT_VOL                   -0.364295"
            ],
            "text/html": [
              "\n",
              "  <div id=\"df-0d4ab399-1800-4a70-bab6-0de943fb8e97\">\n",
              "    <div class=\"colab-df-container\">\n",
              "      <div>\n",
              "<style scoped>\n",
              "    .dataframe tbody tr th:only-of-type {\n",
              "        vertical-align: middle;\n",
              "    }\n",
              "\n",
              "    .dataframe tbody tr th {\n",
              "        vertical-align: top;\n",
              "    }\n",
              "\n",
              "    .dataframe thead th {\n",
              "        text-align: right;\n",
              "    }\n",
              "</style>\n",
              "<table border=\"1\" class=\"dataframe\">\n",
              "  <thead>\n",
              "    <tr style=\"text-align: right;\">\n",
              "      <th></th>\n",
              "      <th>Corr</th>\n",
              "    </tr>\n",
              "  </thead>\n",
              "  <tbody>\n",
              "    <tr>\n",
              "      <th>BORE_GAS_VOL</th>\n",
              "      <td>0.998661</td>\n",
              "    </tr>\n",
              "    <tr>\n",
              "      <th>AVG_DOWNHOLE_TEMPERATURE</th>\n",
              "      <td>0.850241</td>\n",
              "    </tr>\n",
              "    <tr>\n",
              "      <th>AVG_DOWNHOLE_PRESSURE</th>\n",
              "      <td>0.819920</td>\n",
              "    </tr>\n",
              "    <tr>\n",
              "      <th>AVG_DP_TUBING</th>\n",
              "      <td>0.778941</td>\n",
              "    </tr>\n",
              "    <tr>\n",
              "      <th>AVG_WHP_P</th>\n",
              "      <td>0.544204</td>\n",
              "    </tr>\n",
              "    <tr>\n",
              "      <th>DP_CHOKE_SIZE</th>\n",
              "      <td>0.434375</td>\n",
              "    </tr>\n",
              "    <tr>\n",
              "      <th>BORE_WI_VOL</th>\n",
              "      <td>0.368739</td>\n",
              "    </tr>\n",
              "    <tr>\n",
              "      <th>ON_STREAM_HRS</th>\n",
              "      <td>0.361124</td>\n",
              "    </tr>\n",
              "    <tr>\n",
              "      <th>AVG_WHT_P</th>\n",
              "      <td>0.245750</td>\n",
              "    </tr>\n",
              "    <tr>\n",
              "      <th>onstreaminject_HRS</th>\n",
              "      <td>0.182405</td>\n",
              "    </tr>\n",
              "    <tr>\n",
              "      <th>AVG_ANNULUS_PRESS</th>\n",
              "      <td>0.163663</td>\n",
              "    </tr>\n",
              "    <tr>\n",
              "      <th>AVG_CHOKE_SIZE_P in percentage</th>\n",
              "      <td>-0.049757</td>\n",
              "    </tr>\n",
              "    <tr>\n",
              "      <th>BORE_WAT_VOL</th>\n",
              "      <td>-0.364295</td>\n",
              "    </tr>\n",
              "  </tbody>\n",
              "</table>\n",
              "</div>\n",
              "      <button class=\"colab-df-convert\" onclick=\"convertToInteractive('df-0d4ab399-1800-4a70-bab6-0de943fb8e97')\"\n",
              "              title=\"Convert this dataframe to an interactive table.\"\n",
              "              style=\"display:none;\">\n",
              "        \n",
              "  <svg xmlns=\"http://www.w3.org/2000/svg\" height=\"24px\"viewBox=\"0 0 24 24\"\n",
              "       width=\"24px\">\n",
              "    <path d=\"M0 0h24v24H0V0z\" fill=\"none\"/>\n",
              "    <path d=\"M18.56 5.44l.94 2.06.94-2.06 2.06-.94-2.06-.94-.94-2.06-.94 2.06-2.06.94zm-11 1L8.5 8.5l.94-2.06 2.06-.94-2.06-.94L8.5 2.5l-.94 2.06-2.06.94zm10 10l.94 2.06.94-2.06 2.06-.94-2.06-.94-.94-2.06-.94 2.06-2.06.94z\"/><path d=\"M17.41 7.96l-1.37-1.37c-.4-.4-.92-.59-1.43-.59-.52 0-1.04.2-1.43.59L10.3 9.45l-7.72 7.72c-.78.78-.78 2.05 0 2.83L4 21.41c.39.39.9.59 1.41.59.51 0 1.02-.2 1.41-.59l7.78-7.78 2.81-2.81c.8-.78.8-2.07 0-2.86zM5.41 20L4 18.59l7.72-7.72 1.47 1.35L5.41 20z\"/>\n",
              "  </svg>\n",
              "      </button>\n",
              "      \n",
              "  <style>\n",
              "    .colab-df-container {\n",
              "      display:flex;\n",
              "      flex-wrap:wrap;\n",
              "      gap: 12px;\n",
              "    }\n",
              "\n",
              "    .colab-df-convert {\n",
              "      background-color: #E8F0FE;\n",
              "      border: none;\n",
              "      border-radius: 50%;\n",
              "      cursor: pointer;\n",
              "      display: none;\n",
              "      fill: #1967D2;\n",
              "      height: 32px;\n",
              "      padding: 0 0 0 0;\n",
              "      width: 32px;\n",
              "    }\n",
              "\n",
              "    .colab-df-convert:hover {\n",
              "      background-color: #E2EBFA;\n",
              "      box-shadow: 0px 1px 2px rgba(60, 64, 67, 0.3), 0px 1px 3px 1px rgba(60, 64, 67, 0.15);\n",
              "      fill: #174EA6;\n",
              "    }\n",
              "\n",
              "    [theme=dark] .colab-df-convert {\n",
              "      background-color: #3B4455;\n",
              "      fill: #D2E3FC;\n",
              "    }\n",
              "\n",
              "    [theme=dark] .colab-df-convert:hover {\n",
              "      background-color: #434B5C;\n",
              "      box-shadow: 0px 1px 3px 1px rgba(0, 0, 0, 0.15);\n",
              "      filter: drop-shadow(0px 1px 2px rgba(0, 0, 0, 0.3));\n",
              "      fill: #FFFFFF;\n",
              "    }\n",
              "  </style>\n",
              "\n",
              "      <script>\n",
              "        const buttonEl =\n",
              "          document.querySelector('#df-0d4ab399-1800-4a70-bab6-0de943fb8e97 button.colab-df-convert');\n",
              "        buttonEl.style.display =\n",
              "          google.colab.kernel.accessAllowed ? 'block' : 'none';\n",
              "\n",
              "        async function convertToInteractive(key) {\n",
              "          const element = document.querySelector('#df-0d4ab399-1800-4a70-bab6-0de943fb8e97');\n",
              "          const dataTable =\n",
              "            await google.colab.kernel.invokeFunction('convertToInteractive',\n",
              "                                                     [key], {});\n",
              "          if (!dataTable) return;\n",
              "\n",
              "          const docLinkHtml = 'Like what you see? Visit the ' +\n",
              "            '<a target=\"_blank\" href=https://colab.research.google.com/notebooks/data_table.ipynb>data table notebook</a>'\n",
              "            + ' to learn more about interactive tables.';\n",
              "          element.innerHTML = '';\n",
              "          dataTable['output_type'] = 'display_data';\n",
              "          await google.colab.output.renderOutput(dataTable, element);\n",
              "          const docLink = document.createElement('div');\n",
              "          docLink.innerHTML = docLinkHtml;\n",
              "          element.appendChild(docLink);\n",
              "        }\n",
              "      </script>\n",
              "    </div>\n",
              "  </div>\n",
              "  "
            ]
          },
          "metadata": {},
          "execution_count": 19
        }
      ]
    },
    {
      "cell_type": "code",
      "source": [
        "input_columns = corr_df[(abs(corr_df['Corr'])>0.2) & (corr_df['Corr']<0.90)].index"
      ],
      "metadata": {
        "id": "OxcOo3OwH41j"
      },
      "execution_count": null,
      "outputs": []
    },
    {
      "cell_type": "markdown",
      "source": [
        "**Selecting features with good (but not extreme) correlations with output variables.**"
      ],
      "metadata": {
        "id": "4Gj--2KnIIKa"
      }
    },
    {
      "cell_type": "code",
      "source": [
        "input_columns"
      ],
      "metadata": {
        "colab": {
          "base_uri": "https://localhost:8080/"
        },
        "id": "yM1Fv2DMH_5P",
        "outputId": "9616647e-0f3d-4a4e-c54b-449e389aad5e"
      },
      "execution_count": null,
      "outputs": [
        {
          "output_type": "execute_result",
          "data": {
            "text/plain": [
              "Index(['AVG_DOWNHOLE_TEMPERATURE', 'AVG_DOWNHOLE_PRESSURE', 'AVG_DP_TUBING',\n",
              "       'AVG_WHP_P', 'DP_CHOKE_SIZE', 'BORE_WI_VOL', 'ON_STREAM_HRS',\n",
              "       'AVG_WHT_P', 'BORE_WAT_VOL'],\n",
              "      dtype='object')"
            ]
          },
          "metadata": {},
          "execution_count": 22
        }
      ]
    },
    {
      "cell_type": "markdown",
      "source": [
        "**3. Naming input matrix as X and output matrix as Y**"
      ],
      "metadata": {
        "id": "M1BbavcOI4cY"
      }
    },
    {
      "cell_type": "code",
      "source": [
        "X = df[input_columns] ; y = df[output_col]"
      ],
      "metadata": {
        "id": "5abSAHkbIB9W"
      },
      "execution_count": null,
      "outputs": []
    },
    {
      "cell_type": "code",
      "source": [
        "X.shape , y.shape"
      ],
      "metadata": {
        "colab": {
          "base_uri": "https://localhost:8080/"
        },
        "id": "1U5IGyiNJIba",
        "outputId": "e2365e76-c3c4-453a-d528-6f80b671ddfc"
      },
      "execution_count": null,
      "outputs": [
        {
          "output_type": "execute_result",
          "data": {
            "text/plain": [
              "((3291, 9), (3291,))"
            ]
          },
          "metadata": {},
          "execution_count": 24
        }
      ]
    },
    {
      "cell_type": "markdown",
      "source": [
        "**4. Train - Test (or Validation) Split.**\n",
        "   \n",
        "In Time series Projects, we cannot do a shuffle/permutation based split.\n",
        "We need to maintain the sequence.\n",
        "\n",
        "so I am keeping last 291 days as testing or validation set."
      ],
      "metadata": {
        "id": "IWcNwUQwJQFW"
      }
    },
    {
      "cell_type": "code",
      "source": [
        "train_length = 3000 #days\n",
        "\n",
        "X_train , y_train = X.iloc[:train_length,:] , y[:train_length]\n",
        "\n",
        "X_test , y_test = X.iloc[train_length:, :] , y[train_length:]"
      ],
      "metadata": {
        "id": "Uk8m9n71JMcb"
      },
      "execution_count": null,
      "outputs": []
    },
    {
      "cell_type": "code",
      "source": [
        "X_train.shape , X_test.shape"
      ],
      "metadata": {
        "colab": {
          "base_uri": "https://localhost:8080/"
        },
        "id": "VhUsp7_iKouS",
        "outputId": "a0243c2c-3e4d-4641-b941-276e9081f58a"
      },
      "execution_count": null,
      "outputs": [
        {
          "output_type": "execute_result",
          "data": {
            "text/plain": [
              "((3000, 9), (291, 9))"
            ]
          },
          "metadata": {},
          "execution_count": 26
        }
      ]
    },
    {
      "cell_type": "markdown",
      "source": [
        "**5. Feature Scaling. For better training (in select models)**"
      ],
      "metadata": {
        "id": "59nADlRwKvwv"
      }
    },
    {
      "cell_type": "code",
      "source": [
        "from sklearn.preprocessing import MinMaxScaler , StandardScaler"
      ],
      "metadata": {
        "id": "5-YSILoSKuH3"
      },
      "execution_count": null,
      "outputs": []
    },
    {
      "cell_type": "code",
      "source": [
        "# scaler = MinMaxScaler()\n",
        "\n",
        "scaler = StandardScaler()\n",
        "X_train_scaled = scaler.fit_transform(X_train)\n",
        "X_test_scaled = scaler.transform(X_test)"
      ],
      "metadata": {
        "id": "EyCfoas-LF6L"
      },
      "execution_count": null,
      "outputs": []
    },
    {
      "cell_type": "markdown",
      "source": [
        "**6. Training A Machine Learning model.**"
      ],
      "metadata": {
        "id": "2gKURZeDM9nm"
      }
    },
    {
      "cell_type": "markdown",
      "source": [
        "**6.1 Option 1 : Multiple Linear Regression Model**\n"
      ],
      "metadata": {
        "id": "0emVQw0GVN8n"
      }
    },
    {
      "cell_type": "code",
      "source": [
        "from sklearn.linear_model import LinearRegression\n",
        "lm = LinearRegression()"
      ],
      "metadata": {
        "id": "nesixPQfLiF9"
      },
      "execution_count": null,
      "outputs": []
    },
    {
      "cell_type": "code",
      "source": [
        "lm.fit(X_train_scaled , y_train)"
      ],
      "metadata": {
        "colab": {
          "base_uri": "https://localhost:8080/"
        },
        "id": "B1PmMjuqVa1d",
        "outputId": "a60ba656-deb3-4dda-cbe7-8e0d6465d5dc"
      },
      "execution_count": null,
      "outputs": [
        {
          "output_type": "execute_result",
          "data": {
            "text/plain": [
              "LinearRegression()"
            ]
          },
          "metadata": {},
          "execution_count": 35
        }
      ]
    },
    {
      "cell_type": "code",
      "source": [
        "yp_train = lm.predict(X_train_scaled)"
      ],
      "metadata": {
        "id": "aTkrsDj3Vc7W"
      },
      "execution_count": null,
      "outputs": []
    },
    {
      "cell_type": "code",
      "source": [
        "plt.figure(figsize=(12,4))\n",
        "\n",
        "plt.scatter(df.index[:train_length] , y_train, color='orange')\n",
        "plt.plot(df.index[:train_length] , yp_train)\n",
        "\n",
        "plt.grid()"
      ],
      "metadata": {
        "colab": {
          "base_uri": "https://localhost:8080/",
          "height": 265
        },
        "id": "faTSSBcgVfnp",
        "outputId": "16626c90-da03-4a03-b933-9c5e2ec8392e"
      },
      "execution_count": null,
      "outputs": [
        {
          "output_type": "display_data",
          "data": {
            "text/plain": [
              "<Figure size 864x288 with 1 Axes>"
            ],
            "image/png": "[encoded data removed]"
          },
          "metadata": {
            "needs_background": "light"
          }
        }
      ]
    },
    {
      "cell_type": "code",
      "source": [
        "yp_test = lm.predict(X_test_scaled)"
      ],
      "metadata": {
        "id": "W4Og8hR3Vh5U"
      },
      "execution_count": null,
      "outputs": []
    },
    {
      "cell_type": "code",
      "source": [
        "plt.figure(figsize=(12,4))\n",
        "\n",
        "plt.scatter(df.index[:train_length] , y_train, color='orange')\n",
        "plt.plot(df.index[:train_length] , yp_train)\n",
        "\n",
        "plt.scatter(df.index[train_length:] , y_test, color='green')\n",
        "plt.plot(df.index[train_length:] , yp_test, color='black')\n",
        "\n",
        "\n",
        "plt.axvline(df.index[train_length], color='red')\n",
        "\n",
        "\n",
        "plt.grid()\n"
      ],
      "metadata": {
        "colab": {
          "base_uri": "https://localhost:8080/",
          "height": 265
        },
        "id": "QpmCcLEdVkyz",
        "outputId": "825033c2-aa14-48d8-ffd7-e9c0ed2f4a44"
      },
      "execution_count": null,
      "outputs": [
        {
          "output_type": "display_data",
          "data": {
            "text/plain": [
              "<Figure size 864x288 with 1 Axes>"
            ],
            "image/png": "[encoded data removed]"
          },
          "metadata": {
            "needs_background": "light"
          }
        }
      ]
    },
    {
      "cell_type": "markdown",
      "source": [
        "**Option 2: Random Forest Regressor Model**\n",
        "\n",
        "Ensemble Method | Ensemble of Trees "
      ],
      "metadata": {
        "id": "--QAPFo8YMlm"
      }
    },
    {
      "cell_type": "code",
      "source": [
        "from sklearn.ensemble import RandomForestRegressor\n",
        "\n",
        "rf = RandomForestRegressor()\n",
        "\n",
        "rf.fit(X_train , y_train)\n",
        "\n",
        "yp_train = rf.predict(X_train)\n",
        "\n",
        "yp_test = rf.predict(X_test)"
      ],
      "metadata": {
        "id": "i4NL85DSVm8G"
      },
      "execution_count": null,
      "outputs": []
    },
    {
      "cell_type": "code",
      "source": [
        "plt.figure(figsize=(12,4))\n",
        "\n",
        "plt.scatter(df.index[:train_length] , y_train , color = 'orange')\n",
        "plt.plot(df.index[:train_length] , yp_train)\n",
        "\n",
        "plt.scatter(df.index[train_length: ] , y_test , color = 'green')\n",
        "plt.plot(df.index[train_length: ] , yp_test , color ='black')\n",
        "\n",
        "plt.axvline(df.index[train_length], color ='red')\n",
        "\n",
        "plt.grid()"
      ],
      "metadata": {
        "colab": {
          "base_uri": "https://localhost:8080/",
          "height": 265
        },
        "id": "NOkQKo4SZAMZ",
        "outputId": "31c749e3-cb4e-4a22-f0bf-a97315637ac4"
      },
      "execution_count": null,
      "outputs": [
        {
          "output_type": "display_data",
          "data": {
            "text/plain": [
              "<Figure size 864x288 with 1 Axes>"
            ],
            "image/png": "[encoded data removed]"
          },
          "metadata": {
            "needs_background": "light"
          }
        }
      ]
    },
    {
      "cell_type": "code",
      "source": [
        ""
      ],
      "metadata": {
        "id": "ee2-CA1ibNOc"
      },
      "execution_count": null,
      "outputs": []
    }
  ]
}